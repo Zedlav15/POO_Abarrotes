{
  "nbformat": 4,
  "nbformat_minor": 0,
  "metadata": {
    "colab": {
      "provenance": []
    },
    "kernelspec": {
      "name": "python3",
      "display_name": "Python 3"
    },
    "language_info": {
      "name": "python"
    }
  },
  "cells": [
    {
      "cell_type": "code",
      "execution_count": null,
      "metadata": {
        "id": "ugh54d6XUr24"
      },
      "outputs": [],
      "source": [
        "class Product:\n",
        "    def __init__(self, id, name, price, stock, category, description, supplier):\n",
        "        self._id = id\n",
        "        self._name = name\n",
        "        self._price = price\n",
        "        self._stock = stock\n",
        "        self._category = category\n",
        "        self._description = description\n",
        "        self._supplier = supplier\n",
        "\n",
        "    def show_info(self):\n",
        "        info = f\"ID: {self._id}\\nName: {self._name}\\nPrice: {self._price}\\nStock: {self._stock}\\nCategory: {self._category}\\nDescription: {self._description}\\nSupplier: {self._supplier}\"\n",
        "        return info\n",
        "\n",
        "class Store:\n",
        "    def __init__(self):\n",
        "        self.name = \"Tienda de abarrotes\"\n",
        "        self.products = []\n",
        "        self.sales = []\n",
        "        self.totalSales = 0\n",
        "\n",
        "    def add_product(self, product):\n",
        "        self.products.append(product)\n",
        "\n",
        "    def remove_product(self, product_id):\n",
        "        self.products = [product for product in self.products if product._id != product_id]\n",
        "\n",
        "    def show_products(self):\n",
        "        for product in self.products:\n",
        "            print(product.show_info())\n",
        "\n",
        "class Sale:\n",
        "    def __init__(self, id, dateTime, products, totalPrice, employee):\n",
        "        self.id = id\n",
        "        self.dateTime = dateTime\n",
        "        self.products = products\n",
        "        self.totalPrice = totalPrice\n",
        "        self.employee = employee\n",
        "\n",
        "    def calculate_total(self):\n",
        "        self.totalPrice = sum(product._price for product in self.products)\n",
        "        return self.totalPrice\n",
        "\n",
        "class BankAccount:\n",
        "    def __init__(self, account_number):\n",
        "        self.account_number = account_number\n",
        "        self.balance = 0\n",
        "\n",
        "    def update_balance(self, amount):\n",
        "        self.balance += amount\n",
        "\n",
        "    def display_balance(self):\n",
        "        return f\"The current balance is: ${self.balance}\"\n"
      ]
    }
  ]
}